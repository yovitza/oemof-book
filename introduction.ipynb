{
 "cells": [
  {
   "cell_type": "markdown",
   "metadata": {},
   "source": [
    "# <center> Open Energy Modelling Framework (OEMOF)</center>\n",
    "\n",
    "## <center> Chapter 1, 14 May 2024 </center>\n",
    "\n",
    "### <center> Yovitza Romero, Oldenburg University </center>\n",
    "<center> yovitza.romero@uni-oldenburg.de</center>\n",
    "\n",
    "-------------------------------\n",
    "### **Contents**\n",
    "1.  Installation and set-up\n",
    "2.  Background\n",
    "3.  Main components\n",
    "\n",
    "-------------------------------"
   ]
  },
  {
   "cell_type": "markdown",
   "metadata": {},
   "source": [
    "#### Objectives of this Chapter\n",
    "- Install and set-up the required environment  \n",
    "- Understand the main chraracteristic of OEMOF\n",
    "- Indentified the main components of a energy power system to be designed in oemof "
   ]
  },
  {
   "cell_type": "markdown",
   "metadata": {},
   "source": [
    "## (1.0) Introduction to OEMOF\n",
    "### (1.1) Installation and set-up using Visual Studio (Windows)\n",
    "\n",
    "The present chapter will introduce the step by step installation process and set-up of OEMOF in Windows operative system. Refers to [1] if working in other operative systems. \n",
    "\n",
    "     "
   ]
  },
  {
   "cell_type": "markdown",
   "metadata": {},
   "source": [
    "    Step 1. Check-out pre-requisites\n",
    "- Install Python (if not already in your computer)\n",
    "- Suitable IDE for programming ([Anaconda](https://www.anaconda.com/), [Jupyter Notebook](https://jupyter.org/), [Spyder](https://www.spyder-ide.org/), [Visual Studio Code](https://code.visualstudio.com/), etc)\n",
    "    \n",
    "Note: for our simulations, we will work with command line in IDE Visual Studio."
   ]
  },
  {
   "cell_type": "markdown",
   "metadata": {},
   "source": [
    "    Step 2. Create your environment in Visual Studio Code/Anaconda\n",
    "- Open a `Terminal` to create an environment by typing:\n",
    "\n",
    ">``` python\n",
    ">conda create -n name_of_your_environment\n",
    ">```\n",
    "- Activate the environment just created \n",
    "\n",
    ">``` python\n",
    ">conda activate name_of_your_environment\n",
    ">```\n",
    "\n",
    "- Install pip in the new environment \n",
    "\n",
    ">``` python\n",
    ">conda install pip\n",
    ">```\n"
   ]
  },
  {
   "cell_type": "markdown",
   "metadata": {
    "vscode": {
     "languageId": "raw"
    }
   },
   "source": [
    "    Step 3. Install oemof\n",
    "- Check the packages in the environment created (the python version required for oemof must be >=3.x)\n",
    "\n",
    ">``` python\n",
    ">conda list \n",
    ">```\n",
    "- Installing oemof \n",
    "\n",
    ">``` python\n",
    ">pip install oemof\n",
    ">```\n"
   ]
  },
  {
   "cell_type": "markdown",
   "metadata": {},
   "source": [
    "    Step 4. Install Windows Solver\n",
    "\n",
    "There exist commercial ([Gurobi](https://www.gurobi.com/)) and open source solvers ([GLPK](https://www.gnu.org/software/glpk/),[CBC](https://ampl.com/products/solvers/open-source-solvers/) ). \n",
    "Gurobi is a commercial solver, but offer a free version for students. Register yourself and activate it according to the procedure. In the present book, two solvers will be activated (GLPK, Gurobi), but one of them will be enought to start working with oemof. \n",
    "\n",
    "In this book, we are going to start working with oemof.solph (that require either solver) that can act as a model generator to create energy supply model (further details will be covered in the following chapters). \n",
    "\n",
    "- Download [CBC](https://ampl.com/products/solvers/open-source-solvers/) according to your operative system (64 or 32 bit)\n",
    "- Download [GLPK](https://www.gnu.org/software/glpk/) according to your opeartive system (64 or 32 bit)\n",
    "- Unpacked CBC/GLPK to any folder (e.g. C:/Users/Somebody/my_programs)\n",
    "- Add the path of the executable files of both solvers to the PATH variable using the [Tutorial](https://www.computerhope.com/issues/ch000549.htm) \n",
    "- Restart Windows\n"
   ]
  },
  {
   "cell_type": "markdown",
   "metadata": {},
   "source": [
    "    Step 5. Check the solver installation \n",
    "- Test if the installation was successfull: \n",
    "\n",
    ">``` python\n",
    ">oemof_installation_test\n",
    ">```\n",
    "\n",
    "- Expected output (for those using GLPK and Gurobi solvers)\n",
    "\n",
    "```js\n",
    "*****************************\n",
    "Solver installed with oemof:\n",
    "\n",
    "cbc: not working\n",
    "glpk: working\n",
    "gurobi: working\n",
    "cplex: not working\n",
    "\n",
    "*****************************\n",
    "oemof successfully installed.\n",
    "*****************************\n",
    "```"
   ]
  },
  {
   "cell_type": "markdown",
   "metadata": {},
   "source": [
    "### (1.2) Background\n",
    "\n",
    "The Open Energy Modelling Framework (OEMOF),  is a early stage model that provide useful tools to model energy power systems. The user can make use of five libraries available by now in OEMOF:\n",
    "\n",
    "- [oemof-network](https://oemof-solph.readthedocs.io/en/v0.2.3/using_oemof.html#oemof-network)\n",
    "- [oemof-solph](https://oemof-solph.readthedocs.io/en/v0.2.3/using_oemof.html#oemof-solph)\n",
    "- [eomof-outputlib](https://oemof-solph.readthedocs.io/en/v0.2.3/using_oemof.html#oemof-outputlib)\n",
    "- [feedinlib](https://oemof-solph.readthedocs.io/en/v0.2.3/using_oemof.html#feedinlib)\n",
    "- [demandlib](https://oemof-solph.readthedocs.io/en/v0.2.3/using_oemof.html#demandlib)\n",
    "\n",
    "In the present chapter a brief summary for each library will be presented, then, the user may use them in their own application according to their specific task and scenario to be modeled.\n",
    "\n",
    "#### (1.2.1) oemof-network\n",
    "The oemof-network is a library part of oemof installation, and it is use to define or create energy power systems by using components such as sources, sinks, and transformers as shown in Figure 1. Every component of the system should be connected to one or more buses.\n",
    "\n",
    "<center><img src=\".\\Figures\\oemof_network_diagram.png\" width=\"800x\"/></center>\n",
    "<center>Figure 1: Oemof-network diagram. </center>\n",
    "\n",
    "To check if oemof-network was installed correclty, insert the following line in the terminal: \n",
    "\n",
    ">``` python\n",
    ">conda list -n  name_of_your_environment\n",
    ">```\n",
    "\n",
    "Now, we are going to create our first energy power system, with the scenario in Figure 1 as reference:\n",
    "\n",
    "\n",
    ">``` python\n",
    ">from eomef.network import *\n",
    ">from oemof.energy_system import *\n",
    "># create the energy system\n",
    ">es=EnergySystem() \n",
    ">\n",
    "># create bus 1\n",
    ">bus_1=Bus(label=\"bus_1\")\n",
    "> \n",
    "># create bus 2\n",
    ">bus_2=Bus(label=\"bus_2\")\n",
    ">\n",
    "># add bus 1 and bus 2 to energy system\n",
    ">es.add(bus_1, bus_2)\n",
    ">\n",
    "># create and add sink 1 to energy system\n",
    ">es.add(Sink(label=\"sink_1\", inputs={bus_1:[]}))\n",
    ">\n",
    "># create and add sink 2 to energy system\n",
    ">es.add(Sink(label=\"sink_2\",inputs={bus_2:[]}))\n",
    ">\n",
    "># create and add source to energy system\n",
    ">es.add(Source(label=\"source\", outputs={bus_2:[]}))\n",
    ">\n",
    "># create and add transformer to energy system\n",
    ">es.add(Transformer(label=\"transformer\",inputs={bus_1:[]}, outputs:{bus_2=[]}))\n",
    ">\n",
    ">\n",
    ">```\n",
    "\n",
    "\n",
    "\n",
    "\n",
    "\n"
   ]
  },
  {
   "cell_type": "markdown",
   "metadata": {},
   "source": [
    "#### (1.2.2) oemof-solph\n",
    "\n",
    "- solph is a oemof-package, designed to create and solve lineal and mixed-integer linear optimization problems. \n",
    "- Limitation: designed to be generic to be use it in different use cases, which ressult in a limitation, becuase untypical combinations of parameters are allowed.  \n",
    "- "
   ]
  },
  {
   "cell_type": "code",
   "execution_count": 6,
   "metadata": {},
   "outputs": [
    {
     "data": {
      "text/plain": [
       "DatetimeIndex(['2011-01-01 00:00:00', '2011-01-01 01:00:00',\n",
       "               '2011-01-01 02:00:00', '2011-01-01 03:00:00',\n",
       "               '2011-01-01 04:00:00', '2011-01-01 05:00:00',\n",
       "               '2011-01-01 06:00:00', '2011-01-01 07:00:00',\n",
       "               '2011-01-01 08:00:00', '2011-01-01 09:00:00',\n",
       "               ...\n",
       "               '2011-12-31 15:00:00', '2011-12-31 16:00:00',\n",
       "               '2011-12-31 17:00:00', '2011-12-31 18:00:00',\n",
       "               '2011-12-31 19:00:00', '2011-12-31 20:00:00',\n",
       "               '2011-12-31 21:00:00', '2011-12-31 22:00:00',\n",
       "               '2011-12-31 23:00:00', '2012-01-01 00:00:00'],\n",
       "              dtype='datetime64[ns]', length=8761, freq='H')"
      ]
     },
     "execution_count": 6,
     "metadata": {},
     "output_type": "execute_result"
    }
   ],
   "source": [
    "from oemof.solph import create_time_index\n",
    "my_index=create_time_index(2011)\n",
    "my_index"
   ]
  },
  {
   "cell_type": "code",
   "execution_count": 1,
   "metadata": {},
   "outputs": [
    {
     "data": {
      "text/plain": [
       "DatetimeIndex(['2011-01-01 00:00:00', '2011-01-01 01:00:00',\n",
       "               '2011-01-01 02:00:00', '2011-01-01 03:00:00',\n",
       "               '2011-01-01 04:00:00', '2011-01-01 05:00:00',\n",
       "               '2011-01-01 06:00:00', '2011-01-01 07:00:00',\n",
       "               '2011-01-01 08:00:00', '2011-01-01 09:00:00',\n",
       "               ...\n",
       "               '2011-12-31 15:00:00', '2011-12-31 16:00:00',\n",
       "               '2011-12-31 17:00:00', '2011-12-31 18:00:00',\n",
       "               '2011-12-31 19:00:00', '2011-12-31 20:00:00',\n",
       "               '2011-12-31 21:00:00', '2011-12-31 22:00:00',\n",
       "               '2011-12-31 23:00:00', '2012-01-01 00:00:00'],\n",
       "              dtype='datetime64[ns]', length=8761, freq='H')"
      ]
     },
     "execution_count": 1,
     "metadata": {},
     "output_type": "execute_result"
    }
   ],
   "source": [
    "import pandas as pd\n",
    "\n",
    "my_index=pd.date_range(\"1/1/2011\", periods=8761, freq=\"H\")\n",
    "my_index"
   ]
  },
  {
   "cell_type": "markdown",
   "metadata": {},
   "source": [
    "#### (1.2.3) oemof-outputlib\n",
    "#### (1.2.4) feedinlib\n",
    "#### (1.2.5) demandlib"
   ]
  },
  {
   "cell_type": "markdown",
   "metadata": {},
   "source": [
    "### (1.3) Main Components"
   ]
  },
  {
   "cell_type": "markdown",
   "metadata": {},
   "source": [
    "#### References\n",
    "\n",
    "[1] https://oemof-solph.readthedocs.io/"
   ]
  }
 ],
 "metadata": {
  "kernelspec": {
   "display_name": "oemof_env_test",
   "language": "python",
   "name": "python3"
  },
  "language_info": {
   "codemirror_mode": {
    "name": "ipython",
    "version": 3
   },
   "file_extension": ".py",
   "mimetype": "text/x-python",
   "name": "python",
   "nbconvert_exporter": "python",
   "pygments_lexer": "ipython3",
   "version": "3.11.6"
  }
 },
 "nbformat": 4,
 "nbformat_minor": 2
}
